{
 "cells": [
  {
   "cell_type": "code",
   "execution_count": null,
   "metadata": {},
   "outputs": [],
   "source": [
    "import torch\n",
    "if int(torch.__version__[0]) != 1:\n",
    "    print(\"connect to other kernel\") \n"
   ]
  },
  {
   "attachments": {},
   "cell_type": "markdown",
   "metadata": {},
   "source": [
    "## Tensors\n",
    "- Tensors are special types of arrays that were created to optimize deep learning calculations.\n",
    "- Tensors are similar to NumPy’s ndarrays, except that tensors can run on GPUs or other hardware accelerators.\n",
    "\n",
    "## Tensor Attributes\n",
    "- Tensor attributes describe their shape, datatype, and the device on which they are stored.\n",
    "- Tensor attributes are immutable.\n",
    "\n",
    "## Tensor Operations\n",
    "- Once a tensor is instantiated, it's first shape stored in the memroy is contiguously.\n",
    "  - This means that the tensor is stored in a contiguous block of memory.\n",
    "  - and you can only manipulate the shape of the tensor by changing the stride.\n",
    "    - stride means how do you access the next element in the tensor.\n",
    "  - This is why tensor operations are so fast and efficient."
   ]
  },
  {
   "cell_type": "code",
   "execution_count": 1,
   "metadata": {},
   "outputs": [],
   "source": [
    "%load_ext autoreload\n",
    "%autoreload 2\n",
    "\n",
    "import torch \n",
    "import functions as fn \n"
   ]
  },
  {
   "cell_type": "code",
   "execution_count": 2,
   "metadata": {},
   "outputs": [
    {
     "name": "stdout",
     "output_type": "stream",
     "text": [
      "torch.Size([2, 1000])\n",
      "torch.Size([1000, 2])\n"
     ]
    }
   ],
   "source": [
    "# generate data\n",
    "data_x, data_y = fn.gen_pts_(1000)\n",
    "#* create tensor using the generated data \n",
    "#* adjust shape from (2, 1000) to (1000, 2) , why? \n",
    "#* column = feature, row = sample\n",
    "data_torch  = torch.tensor([data_x, data_y])\n",
    "print(data_torch.shape)\n",
    "data_torch = data_torch.T\n",
    "print(data_torch.shape)"
   ]
  },
  {
   "attachments": {},
   "cell_type": "markdown",
   "metadata": {},
   "source": [
    "## Contiguous vs Non-Contiguous Tensors\n",
    "- contiguous functions `view` ,`reshape` returns new tensors with new shape and stride.\n",
    "- `reshape()` function will return a view of the original tensor whenever the array is contiguous, otherwise it will return a copy\n",
    "- non-contiguous functions `transpose` returns a new view of the same tensor with different shape and stride.\n",
    "- use `.storage()` to check the change of the storage of the tensor.\n",
    "\n",
    "Note that the word \"contiguous\" is a bit misleading because it's not that the content of the tensor is spread out around disconnected blocks of memory. Here bytes are still allocated in one block of memory but the order of the elements is different!\n",
    "\n",
    "When you call contiguous(), it actually makes a copy of the tensor such that the order of its elements in memory is the same as if it had been created from scratch with the same data.\n",
    "\n",
    "- [read more - medium](https://medium.com/analytics-vidhya/pytorch-contiguous-vs-non-contiguous-tensor-view-understanding-view-reshape-73e10cdfa0dd)\n",
    "- [read more - stackoverflow](https://stackoverflow.com/questions/48915810/what-does-contiguous-do-in-pytorch)\n"
   ]
  },
  {
   "cell_type": "code",
   "execution_count": 3,
   "metadata": {},
   "outputs": [
    {
     "name": "stdout",
     "output_type": "stream",
     "text": [
      "(1000, 1)\n",
      "(1, 1000)\n"
     ]
    }
   ],
   "source": [
    "data_x, data_y = fn.gen_pts_(1000)\n",
    "data_torch  = torch.tensor([data_x, data_y])\n",
    "\n",
    "#* check the stride of the tensor\n",
    "print(data_torch.stride()) #* (1000,1)\n",
    "#* takes 1000 steps to move to the next dimension\n",
    "print(data_torch.T.stride()) #* (1,1000)\n",
    "#* takes 1 step to move to the next dimension"
   ]
  },
  {
   "cell_type": "code",
   "execution_count": null,
   "metadata": {},
   "outputs": [],
   "source": [
    "## Create tensors for of 2s at shape of 3x3\n"
   ]
  },
  {
   "cell_type": "code",
   "execution_count": 4,
   "metadata": {},
   "outputs": [
    {
     "name": "stdout",
     "output_type": "stream",
     "text": [
      "2.0.0 \n",
      "\n",
      "the Original tensor\n",
      "is contiguous :  True\n",
      "torch.Size([2, 1000])\n",
      "stride (1000, 1) \n",
      "\n",
      "transpose the tensor\n",
      "is contiguous :  False\n",
      "torch.Size([1000, 2])\n",
      "stride (1, 1000) \n",
      "\n",
      "change View of the tensor\n",
      "is contiguous :  True\n",
      "torch.Size([1000, 2])\n",
      "stride :  (2, 1) \n",
      "\n",
      "change Reshape of the tensor\n",
      "is contiguous True\n",
      "torch.Size([1000, 2])\n",
      "stride (2, 1) \n",
      "\n"
     ]
    }
   ],
   "source": [
    "print(torch.__version__, \"\\n\")\n",
    "\n",
    "#* check if the tensor is contiguous\n",
    "print(\"the Original tensor\")\n",
    "print(\"is contiguous : \", data_torch.is_contiguous())\n",
    "print(data_torch.shape)\n",
    "print(\"stride\", data_torch.stride(), \"\\n\")\n",
    "\n",
    "#* transpose the tensor\n",
    "print(\"transpose the tensor\")\n",
    "print(\"is contiguous : \", data_torch.T.is_contiguous())\n",
    "print(data_torch.T.shape)\n",
    "print(\"stride\", data_torch.T.stride(), \"\\n\")\n",
    "\n",
    "#* reshape the tensor using view\n",
    "print(\"change View of the tensor\")\n",
    "print(\"is contiguous : \", data_torch.view(1000,2).is_contiguous())\n",
    "print(data_torch.view(1000,2).shape)\n",
    "print(\"stride : \", data_torch.view(1000,2).stride(), \"\\n\")\n",
    "\n",
    "#* reshape the tensor using reshape\n",
    "print(\"change Reshape of the tensor\")\n",
    "print(\"is contiguous\", data_torch.reshape(1000,2).is_contiguous())\n",
    "print(data_torch.reshape(1000,2).shape)\n",
    "print(\"stride\", data_torch.reshape(1000,2).stride(), \"\\n\")"
   ]
  },
  {
   "cell_type": "code",
   "execution_count": null,
   "metadata": {},
   "outputs": [],
   "source": []
  }
 ],
 "metadata": {
  "kernelspec": {
   "display_name": "torch",
   "language": "python",
   "name": "python3"
  },
  "language_info": {
   "codemirror_mode": {
    "name": "ipython",
    "version": 3
   },
   "file_extension": ".py",
   "mimetype": "text/x-python",
   "name": "python",
   "nbconvert_exporter": "python",
   "pygments_lexer": "ipython3",
   "version": "3.8.16"
  },
  "orig_nbformat": 4
 },
 "nbformat": 4,
 "nbformat_minor": 2
}
