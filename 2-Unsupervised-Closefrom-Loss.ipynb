{
 "cells": [
  {
   "attachments": {},
   "cell_type": "markdown",
   "metadata": {},
   "source": [
    "## Close form vs nomerical rate of change of cost function\n",
    "- instead of numerically calculating the rate of the cost function using Limits \n",
    "- we calculate the derivative of the cost function using the close form solution\n",
    "  - done mathematically by taking the derivative of the cost function\n",
    "- this is a more efficient as we don't have to calculate the $L$ twice like we did in the limit "
   ]
  },
  {
   "attachments": {},
   "cell_type": "markdown",
   "metadata": {},
   "source": [
    "# **Closed Form Evaluation of the Gradient**\n",
    "- mathimatically calculating the derivative of the cost function\n",
    "$$\n",
    "L = \\frac{1}{N} \\sum_{i=0}^{N-1}\\sqrt{(x_i - x_p)^2 + (y_i - y_p)^2}\n",
    "$$\n",
    "\n",
    "$$\n",
    "\\frac{\\partial{L}}{\\partial{x_p}} = \\frac{-1}{N}* \\sum_{i =0} ^{N-1} ((X_i - x_p)^2 + (y_i - y_p)^2)^{\\frac{-1}{2}} * (x_i - x_p)\n",
    "$$\n",
    "\n",
    "$$\n",
    "\\frac{\\partial{L}}{\\partial{y_p}} = \\frac{-1}{N}* \\sum_{i =0} ^{N-1} ((X_i - x_p)^2 + (y_i - y_p)^2)^{\\frac{-1}{2}} * (y_i - y_p)\n",
    "$$\n",
    "\n",
    "- calculating using the close form solution is cheaper computionally\n",
    "$$\n",
    "\\frac{\\partial{L}}{\\partial{x}} = \\lim_{h \\rightarrow 0} \\frac{L(x+h, y) - L(x,y)}{h}\n",
    "$$\n",
    "\n",
    "$$\n",
    "\\frac{\\partial{L}}{\\partial{y}} = \\lim_{h \\rightarrow 0} \\frac{L(x, y+h) - L(x,y)}{h}\n",
    "$$\n",
    "- Looping over the all data is done twice each iteration in the numerical methode \n",
    "  - 1 time for $ L(x+h, y) $\n",
    "  - 1 time for $ L(x, y)$\n",
    "- where in the close form, we're iterating over the whole data just 1 time each iteration \n",
    "\n",
    "\n",
    "\n"
   ]
  },
  {
   "cell_type": "code",
   "execution_count": 1,
   "metadata": {},
   "outputs": [],
   "source": [
    "import functions as fn\n",
    "import timeit\n",
    "%load_ext autoreload\n",
    "%autoreload 2\n"
   ]
  },
  {
   "cell_type": "code",
   "execution_count": 2,
   "metadata": {},
   "outputs": [],
   "source": [
    "data_x, data_y = fn.gen_pts_(1000)\n",
    "xp, yp = 5, 5\n",
    "H = 0.001\n",
    "\n",
    "def calc_numeric():\n",
    "    dl_dx = fn.loss(xp + H, yp, data_x, data_y) - fn.loss(xp, yp, data_x, data_y)\n",
    "    dl_dy = fn.loss(xp, yp+H , data_x, data_y) - fn.loss(xp, yp, data_x, data_y)\n",
    "    return dl_dx/H, dl_dy/H\n",
    "\n",
    "def close_form(xp, yp, data_x, data_y):\n",
    "    sum_x, sum_y = 0, 0\n",
    "    for xi, yi in zip(data_x, data_y):\n",
    "        inv_sqrt = ((xi - xp)**2 + (yi - yp)**2) ** (-0.5)\n",
    "        sum_x += (xi - xp) * inv_sqrt\n",
    "        sum_y += (yi - yp) * inv_sqrt\n",
    "    return -sum_x/len(data_x), -sum_y/len(data_y)"
   ]
  },
  {
   "cell_type": "code",
   "execution_count": 3,
   "metadata": {},
   "outputs": [
    {
     "data": {
      "text/plain": [
       "((0.706413257168137, 0.7063635749888775),\n",
       " (0.7063740168102004, 0.7063243377191615))"
      ]
     },
     "execution_count": 3,
     "metadata": {},
     "output_type": "execute_result"
    }
   ],
   "source": [
    "calc_numeric(), close_form(xp, yp, data_x, data_y)"
   ]
  },
  {
   "cell_type": "code",
   "execution_count": 4,
   "metadata": {},
   "outputs": [
    {
     "name": "stdout",
     "output_type": "stream",
     "text": [
      "close form is faster than numerical method by 2.97 times\n"
     ]
    }
   ],
   "source": [
    "## calculate the avg time using timeit \n",
    "\n",
    "numerical_time = timeit.timeit(calc_numeric, number=100)\n",
    "close_form_time = timeit.timeit(lambda: close_form(xp, yp, data_x, data_y), number=100)\n",
    "print(f\"close form is faster than numerical method by {(numerical_time/close_form_time):.2f} times\")"
   ]
  },
  {
   "cell_type": "code",
   "execution_count": 5,
   "metadata": {},
   "outputs": [
    {
     "data": {
      "text/plain": [
       "tensor([0.7064, 0.7063])"
      ]
     },
     "execution_count": 5,
     "metadata": {},
     "output_type": "execute_result"
    }
   ],
   "source": [
    "import torch \n",
    "data = torch.tensor([data_x, data_y], requires_grad=False).T\n",
    "pnt = torch.tensor([xp, yp], requires_grad=True, dtype=torch.float32)\n",
    "\n",
    "\n",
    "def calc_torch(data, pnt):\n",
    "    loss = torch.sqrt(torch.sum((data - pnt)**2, dim=1)).mean()\n",
    "    loss.backward()\n",
    "    return pnt.grad\n",
    "calc_torch(data, pnt)"
   ]
  },
  {
   "cell_type": "code",
   "execution_count": 6,
   "metadata": {},
   "outputs": [
    {
     "name": "stdout",
     "output_type": "stream",
     "text": [
      "torch auto grad is faster than close form by 3.71 times\n",
      "torch auto grad is faster than numerical method by 11.03 times\n"
     ]
    }
   ],
   "source": [
    "torch_time = timeit.timeit(lambda: calc_torch(data, pnt), number=100)\n",
    "print(f\"torch auto grad is faster than close form by {(close_form_time/torch_time):.2f} times\")\n",
    "print(f\"torch auto grad is faster than numerical method by {(numerical_time/torch_time):.2f} times\")"
   ]
  },
  {
   "attachments": {},
   "cell_type": "markdown",
   "metadata": {},
   "source": [
    "More about the torch autograd later "
   ]
  }
 ],
 "metadata": {
  "kernelspec": {
   "display_name": "torch",
   "language": "python",
   "name": "python3"
  },
  "language_info": {
   "codemirror_mode": {
    "name": "ipython",
    "version": 3
   },
   "file_extension": ".py",
   "mimetype": "text/x-python",
   "name": "python",
   "nbconvert_exporter": "python",
   "pygments_lexer": "ipython3",
   "version": "3.8.16"
  },
  "orig_nbformat": 4
 },
 "nbformat": 4,
 "nbformat_minor": 2
}
