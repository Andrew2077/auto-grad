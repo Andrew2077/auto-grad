{
 "cells": [
  {
   "cell_type": "code",
   "execution_count": 2,
   "metadata": {},
   "outputs": [
    {
     "name": "stdout",
     "output_type": "stream",
     "text": [
      "The autoreload extension is already loaded. To reload it, use:\n",
      "  %reload_ext autoreload\n"
     ]
    }
   ],
   "source": [
    "%load_ext autoreload\n",
    "%autoreload 2"
   ]
  },
  {
   "cell_type": "code",
   "execution_count": 3,
   "metadata": {},
   "outputs": [],
   "source": [
    "from uuid import uuid4\n",
    "from graphviz import Digraph\n",
    "import numpy as np\n",
    "import functions as fn\n",
    "from auto_grad import CompNode"
   ]
  },
  {
   "cell_type": "code",
   "execution_count": 4,
   "metadata": {},
   "outputs": [],
   "source": [
    "node = CompNode(val=1)\n",
    "assert isinstance(node, CompNode)\n",
    "assert (node + 3).val == (3 + node).val \n",
    "assert (node * 3).val == 3\n",
    "assert (3 * node) == 3\n",
    "assert (3 * CompNode(2)) == 6\n",
    "assert (3 == CompNode(3)) == True"
   ]
  },
  {
   "cell_type": "code",
   "execution_count": 5,
   "metadata": {},
   "outputs": [
    {
     "name": "stdout",
     "output_type": "stream",
     "text": [
      "0 Op: pow, Val: 0.54721, children: 1, grad: 1.00000\n",
      "1 Op: add, Val: 0.29944, children: 2, grad: 0.91372\n",
      "2 Op: pow, Val: 0.19518, children: 1, grad: 0.91372\n",
      "3 Op: pow, Val: 0.10427, children: 1, grad: 0.91372\n",
      "4 Op: sub, Val: -0.44179, children: 2, grad: -0.80734\n",
      "5 Op: sub, Val: -0.32290, children: 2, grad: -0.59008\n",
      "6 Op: assign, Val: 0.30000, children: 0, grad: -0.80734\n",
      "7 Op: assign, Val: 0.30000, children: 0, grad: -0.59008\n"
     ]
    }
   ],
   "source": [
    "data_x, data_y =fn.gen_pts_(1)\n",
    "xp, yp = CompNode(0.3), CompNode(0.3)\n",
    "def LossGraph(xp, yp, data_x, data_y):\n",
    "    Ix, Iy = xp - data_x , yp - data_y\n",
    "    Gx, Gy = Ix ** 2, Iy ** 2\n",
    "    M = Gx + Gy\n",
    "    L =  M ** 0.5\n",
    "    return L, [xp, yp, Ix, Iy, Gx, Gy, M, L]\n",
    "\n",
    "loss, rev_topo = LossGraph(xp, yp, data_x[0], data_y[0])\n",
    "# print(loss)\n",
    "rev_topo[-1].grad = 1\n",
    "for idx, val in enumerate(rev_topo[::-1]):\n",
    "    val.backward_fn()\n",
    "    print(idx , val)"
   ]
  },
  {
   "cell_type": "code",
   "execution_count": 6,
   "metadata": {},
   "outputs": [],
   "source": [
    "def loss_graph(xp, yp, data_x, data_y):\n",
    "    loss = 0\n",
    "    for x, y in zip(data_x, data_y):\n",
    "        loss += ((xp - x) ** 2 + (yp - y) ** 2)**0.5\n",
    "    return (1/len(data_x)) * loss\n",
    "data_x, data_y =fn.gen_pts_(1)\n",
    "xp, yp = CompNode(0.3), CompNode(0.3)\n",
    "currloss = loss_graph(xp, yp, data_x, data_y)\n",
    "currloss.backward() # type: ignore\n"
   ]
  },
  {
   "cell_type": "code",
   "execution_count": 7,
   "metadata": {},
   "outputs": [
    {
     "data": {
      "text/plain": [
       "[Op: assign, Val: 0.30000, children: 0, grad: -0.59008,\n",
       " Op: assign, Val: 0.62290, children: 0, grad: 0.59008,\n",
       " Op: sub, Val: -0.32290, children: 2, grad: -0.59008,\n",
       " Op: pow, Val: 0.10427, children: 1, grad: 0.91372,\n",
       " Op: assign, Val: 0.30000, children: 0, grad: -0.80734,\n",
       " Op: assign, Val: 0.74179, children: 0, grad: 0.80734,\n",
       " Op: sub, Val: -0.44179, children: 2, grad: -0.80734,\n",
       " Op: pow, Val: 0.19518, children: 1, grad: 0.91372,\n",
       " Op: add, Val: 0.29944, children: 2, grad: 0.91372,\n",
       " Op: pow, Val: 0.54721, children: 1, grad: 1.00000,\n",
       " Op: assign, Val: 0.00000, children: 0, grad: 1.00000,\n",
       " Op: add, Val: 0.54721, children: 2, grad: 1.00000,\n",
       " Op: assign, Val: 1.00000, children: 0, grad: 0.54721,\n",
       " Op: mul, Val: 0.54721, children: 2, grad: 1.00000]"
      ]
     },
     "execution_count": 7,
     "metadata": {},
     "output_type": "execute_result"
    }
   ],
   "source": [
    "currloss.toposort()"
   ]
  },
  {
   "cell_type": "code",
   "execution_count": 10,
   "metadata": {},
   "outputs": [
    {
     "name": "stdout",
     "output_type": "stream",
     "text": [
      "-0.5900849147094943 -0.8073411877467226 0.5472122517293468\n"
     ]
    },
    {
     "data": {
      "text/plain": [
       "((-0.5900849147094943, -0.8073411877467226), 0.5472122517293468)"
      ]
     },
     "execution_count": 10,
     "metadata": {},
     "output_type": "execute_result"
    }
   ],
   "source": [
    "print(xp.grad, yp.grad, currloss.val) \n",
    "fn.calc_grad(0.3, 0.3, data_x, data_y) , fn.loss(0.3, 0.3, data_x, data_y)"
   ]
  },
  {
   "attachments": {},
   "cell_type": "markdown",
   "metadata": {},
   "source": [
    "## Notes\n",
    "- I'm not sure about the drawing graph part, try adding more points and see how it works"
   ]
  },
  {
   "cell_type": "code",
   "execution_count": 9,
   "metadata": {},
   "outputs": [
    {
     "data": {
      "image/svg+xml": [
       "<?xml version=\"1.0\" encoding=\"UTF-8\" standalone=\"no\"?>\n",
       "<!DOCTYPE svg PUBLIC \"-//W3C//DTD SVG 1.1//EN\"\n",
       " \"http://www.w3.org/Graphics/SVG/1.1/DTD/svg11.dtd\">\n",
       "<!-- Generated by graphviz version 2.50.0 (0)\n",
       " -->\n",
       "<!-- Pages: 1 -->\n",
       "<svg width=\"602pt\" height=\"749pt\"\n",
       " viewBox=\"0.00 0.00 602.06 748.67\" xmlns=\"http://www.w3.org/2000/svg\" xmlns:xlink=\"http://www.w3.org/1999/xlink\">\n",
       "<g id=\"graph0\" class=\"graph\" transform=\"scale(1 1) rotate(0) translate(4 744.67)\">\n",
       "<polygon fill=\"white\" stroke=\"transparent\" points=\"-4,4 -4,-744.67 598.06,-744.67 598.06,4 -4,4\"/>\n",
       "<!-- 343772839086578408 -->\n",
       "<g id=\"node1\" class=\"node\">\n",
       "<title>343772839086578408</title>\n",
       "<ellipse fill=\"none\" stroke=\"black\" cx=\"145.05\" cy=\"-37.48\" rx=\"56.64\" ry=\"37.45\"/>\n",
       "<text text-anchor=\"middle\" x=\"145.05\" y=\"-48.78\" font-family=\"Times New Roman,serif\" font-size=\"14.00\">Op: 0 : mul</text>\n",
       "<text text-anchor=\"middle\" x=\"145.05\" y=\"-33.78\" font-family=\"Times New Roman,serif\" font-size=\"14.00\">Val : 0.55</text>\n",
       "<text text-anchor=\"middle\" x=\"145.05\" y=\"-18.78\" font-family=\"Times New Roman,serif\" font-size=\"14.00\">Grad : 1.00</text>\n",
       "</g>\n",
       "<!-- 558877121256821761 -->\n",
       "<g id=\"node2\" class=\"node\">\n",
       "<title>558877121256821761</title>\n",
       "<ellipse fill=\"none\" stroke=\"black\" cx=\"76.05\" cy=\"-148.43\" rx=\"65.11\" ry=\"37.45\"/>\n",
       "<text text-anchor=\"middle\" x=\"76.05\" y=\"-159.73\" font-family=\"Times New Roman,serif\" font-size=\"14.00\">Op: 1 : assign</text>\n",
       "<text text-anchor=\"middle\" x=\"76.05\" y=\"-144.73\" font-family=\"Times New Roman,serif\" font-size=\"14.00\">Val : 1.00</text>\n",
       "<text text-anchor=\"middle\" x=\"76.05\" y=\"-129.73\" font-family=\"Times New Roman,serif\" font-size=\"14.00\">Grad : 0.55</text>\n",
       "</g>\n",
       "<!-- 558877121256821761&#45;&gt;343772839086578408 -->\n",
       "<g id=\"edge13\" class=\"edge\">\n",
       "<title>558877121256821761&#45;&gt;343772839086578408</title>\n",
       "<path fill=\"none\" stroke=\"black\" d=\"M97.89,-112.96C104.3,-102.83 111.4,-91.62 118.09,-81.05\"/>\n",
       "<polygon fill=\"black\" stroke=\"black\" points=\"121.21,-82.67 123.6,-72.35 115.29,-78.93 121.21,-82.67\"/>\n",
       "</g>\n",
       "<!-- 1238275241522615551 -->\n",
       "<g id=\"node3\" class=\"node\">\n",
       "<title>1238275241522615551</title>\n",
       "<ellipse fill=\"none\" stroke=\"black\" cx=\"215.05\" cy=\"-148.43\" rx=\"55.72\" ry=\"37.45\"/>\n",
       "<text text-anchor=\"middle\" x=\"215.05\" y=\"-159.73\" font-family=\"Times New Roman,serif\" font-size=\"14.00\">Op: 2 : add</text>\n",
       "<text text-anchor=\"middle\" x=\"215.05\" y=\"-144.73\" font-family=\"Times New Roman,serif\" font-size=\"14.00\">Val : 0.55</text>\n",
       "<text text-anchor=\"middle\" x=\"215.05\" y=\"-129.73\" font-family=\"Times New Roman,serif\" font-size=\"14.00\">Grad : 1.00</text>\n",
       "</g>\n",
       "<!-- 1238275241522615551&#45;&gt;343772839086578408 -->\n",
       "<g id=\"edge1\" class=\"edge\">\n",
       "<title>1238275241522615551&#45;&gt;343772839086578408</title>\n",
       "<path fill=\"none\" stroke=\"black\" d=\"M193.48,-113.85C186.76,-103.39 179.26,-91.72 172.21,-80.75\"/>\n",
       "<polygon fill=\"black\" stroke=\"black\" points=\"175.03,-78.65 166.68,-72.13 169.14,-82.44 175.03,-78.65\"/>\n",
       "</g>\n",
       "<!-- 189415950259466580 -->\n",
       "<g id=\"node4\" class=\"node\">\n",
       "<title>189415950259466580</title>\n",
       "<ellipse fill=\"none\" stroke=\"black\" cx=\"145.05\" cy=\"-259.38\" rx=\"65.11\" ry=\"37.45\"/>\n",
       "<text text-anchor=\"middle\" x=\"145.05\" y=\"-270.68\" font-family=\"Times New Roman,serif\" font-size=\"14.00\">Op: 3 : assign</text>\n",
       "<text text-anchor=\"middle\" x=\"145.05\" y=\"-255.68\" font-family=\"Times New Roman,serif\" font-size=\"14.00\">Val : 0.00</text>\n",
       "<text text-anchor=\"middle\" x=\"145.05\" y=\"-240.68\" font-family=\"Times New Roman,serif\" font-size=\"14.00\">Grad : 1.00</text>\n",
       "</g>\n",
       "<!-- 189415950259466580&#45;&gt;1238275241522615551 -->\n",
       "<g id=\"edge12\" class=\"edge\">\n",
       "<title>189415950259466580&#45;&gt;1238275241522615551</title>\n",
       "<path fill=\"none\" stroke=\"black\" d=\"M167.2,-223.91C173.71,-213.78 180.91,-202.58 187.7,-192\"/>\n",
       "<polygon fill=\"black\" stroke=\"black\" points=\"190.83,-193.61 193.29,-183.31 184.94,-189.83 190.83,-193.61\"/>\n",
       "</g>\n",
       "<!-- 542860866147615735 -->\n",
       "<g id=\"node5\" class=\"node\">\n",
       "<title>542860866147615735</title>\n",
       "<ellipse fill=\"none\" stroke=\"black\" cx=\"286.05\" cy=\"-259.38\" rx=\"57.97\" ry=\"37.45\"/>\n",
       "<text text-anchor=\"middle\" x=\"286.05\" y=\"-270.68\" font-family=\"Times New Roman,serif\" font-size=\"14.00\">Op: 4 : pow</text>\n",
       "<text text-anchor=\"middle\" x=\"286.05\" y=\"-255.68\" font-family=\"Times New Roman,serif\" font-size=\"14.00\">Val : 0.55</text>\n",
       "<text text-anchor=\"middle\" x=\"286.05\" y=\"-240.68\" font-family=\"Times New Roman,serif\" font-size=\"14.00\">Grad : 1.00</text>\n",
       "</g>\n",
       "<!-- 542860866147615735&#45;&gt;1238275241522615551 -->\n",
       "<g id=\"edge2\" class=\"edge\">\n",
       "<title>542860866147615735&#45;&gt;1238275241522615551</title>\n",
       "<path fill=\"none\" stroke=\"black\" d=\"M263.98,-224.51C257.23,-214.16 249.73,-202.64 242.66,-191.8\"/>\n",
       "<polygon fill=\"black\" stroke=\"black\" points=\"245.51,-189.75 237.12,-183.29 239.64,-193.57 245.51,-189.75\"/>\n",
       "</g>\n",
       "<!-- 856084901965338321 -->\n",
       "<g id=\"node6\" class=\"node\">\n",
       "<title>856084901965338321</title>\n",
       "<ellipse fill=\"none\" stroke=\"black\" cx=\"286.05\" cy=\"-370.34\" rx=\"55.72\" ry=\"37.45\"/>\n",
       "<text text-anchor=\"middle\" x=\"286.05\" y=\"-381.64\" font-family=\"Times New Roman,serif\" font-size=\"14.00\">Op: 5 : add</text>\n",
       "<text text-anchor=\"middle\" x=\"286.05\" y=\"-366.64\" font-family=\"Times New Roman,serif\" font-size=\"14.00\">Val : 0.30</text>\n",
       "<text text-anchor=\"middle\" x=\"286.05\" y=\"-351.64\" font-family=\"Times New Roman,serif\" font-size=\"14.00\">Grad : 0.91</text>\n",
       "</g>\n",
       "<!-- 856084901965338321&#45;&gt;542860866147615735 -->\n",
       "<g id=\"edge3\" class=\"edge\">\n",
       "<title>856084901965338321&#45;&gt;542860866147615735</title>\n",
       "<path fill=\"none\" stroke=\"black\" d=\"M286.05,-332.75C286.05,-324.58 286.05,-315.8 286.05,-307.27\"/>\n",
       "<polygon fill=\"black\" stroke=\"black\" points=\"289.55,-307.06 286.05,-297.06 282.55,-307.06 289.55,-307.06\"/>\n",
       "</g>\n",
       "<!-- 567505660782410957 -->\n",
       "<g id=\"node7\" class=\"node\">\n",
       "<title>567505660782410957</title>\n",
       "<ellipse fill=\"none\" stroke=\"black\" cx=\"217.05\" cy=\"-481.29\" rx=\"57.97\" ry=\"37.45\"/>\n",
       "<text text-anchor=\"middle\" x=\"217.05\" y=\"-492.59\" font-family=\"Times New Roman,serif\" font-size=\"14.00\">Op: 6 : pow</text>\n",
       "<text text-anchor=\"middle\" x=\"217.05\" y=\"-477.59\" font-family=\"Times New Roman,serif\" font-size=\"14.00\">Val : 0.20</text>\n",
       "<text text-anchor=\"middle\" x=\"217.05\" y=\"-462.59\" font-family=\"Times New Roman,serif\" font-size=\"14.00\">Grad : 0.91</text>\n",
       "</g>\n",
       "<!-- 567505660782410957&#45;&gt;856084901965338321 -->\n",
       "<g id=\"edge8\" class=\"edge\">\n",
       "<title>567505660782410957&#45;&gt;856084901965338321</title>\n",
       "<path fill=\"none\" stroke=\"black\" d=\"M238.51,-446.41C245.06,-436.06 252.36,-424.55 259.22,-413.71\"/>\n",
       "<polygon fill=\"black\" stroke=\"black\" points=\"262.22,-415.51 264.61,-405.19 256.31,-411.77 262.22,-415.51\"/>\n",
       "</g>\n",
       "<!-- 228623605465035275 -->\n",
       "<g id=\"node8\" class=\"node\">\n",
       "<title>228623605465035275</title>\n",
       "<ellipse fill=\"none\" stroke=\"black\" cx=\"213.05\" cy=\"-592.24\" rx=\"58.88\" ry=\"37.45\"/>\n",
       "<text text-anchor=\"middle\" x=\"213.05\" y=\"-603.54\" font-family=\"Times New Roman,serif\" font-size=\"14.00\">Op: 7 : sub</text>\n",
       "<text text-anchor=\"middle\" x=\"213.05\" y=\"-588.54\" font-family=\"Times New Roman,serif\" font-size=\"14.00\">Val : &#45;0.44</text>\n",
       "<text text-anchor=\"middle\" x=\"213.05\" y=\"-573.54\" font-family=\"Times New Roman,serif\" font-size=\"14.00\">Grad : &#45;0.81</text>\n",
       "</g>\n",
       "<!-- 228623605465035275&#45;&gt;567505660782410957 -->\n",
       "<g id=\"edge9\" class=\"edge\">\n",
       "<title>228623605465035275&#45;&gt;567505660782410957</title>\n",
       "<path fill=\"none\" stroke=\"black\" d=\"M214.4,-554.66C214.7,-546.49 215.02,-537.71 215.33,-529.18\"/>\n",
       "<polygon fill=\"black\" stroke=\"black\" points=\"218.84,-529.08 215.71,-518.96 211.84,-528.83 218.84,-529.08\"/>\n",
       "</g>\n",
       "<!-- 1777180276137819737 -->\n",
       "<g id=\"node9\" class=\"node\">\n",
       "<title>1777180276137819737</title>\n",
       "<ellipse fill=\"none\" stroke=\"black\" cx=\"65.05\" cy=\"-703.2\" rx=\"65.11\" ry=\"37.45\"/>\n",
       "<text text-anchor=\"middle\" x=\"65.05\" y=\"-714.5\" font-family=\"Times New Roman,serif\" font-size=\"14.00\">Op: 8 : assign</text>\n",
       "<text text-anchor=\"middle\" x=\"65.05\" y=\"-699.5\" font-family=\"Times New Roman,serif\" font-size=\"14.00\">Val : 0.74</text>\n",
       "<text text-anchor=\"middle\" x=\"65.05\" y=\"-684.5\" font-family=\"Times New Roman,serif\" font-size=\"14.00\">Grad : 0.81</text>\n",
       "</g>\n",
       "<!-- 1777180276137819737&#45;&gt;228623605465035275 -->\n",
       "<g id=\"edge11\" class=\"edge\">\n",
       "<title>1777180276137819737&#45;&gt;228623605465035275</title>\n",
       "<path fill=\"none\" stroke=\"black\" d=\"M104.33,-673.29C123.59,-659.1 146.93,-641.93 167.03,-627.13\"/>\n",
       "<polygon fill=\"black\" stroke=\"black\" points=\"169.15,-629.91 175.13,-621.16 165,-624.27 169.15,-629.91\"/>\n",
       "</g>\n",
       "<!-- 946233641481182970 -->\n",
       "<g id=\"node10\" class=\"node\">\n",
       "<title>946233641481182970</title>\n",
       "<ellipse fill=\"none\" stroke=\"black\" cx=\"213.05\" cy=\"-703.2\" rx=\"65.11\" ry=\"37.45\"/>\n",
       "<text text-anchor=\"middle\" x=\"213.05\" y=\"-714.5\" font-family=\"Times New Roman,serif\" font-size=\"14.00\">Op: 9 : assign</text>\n",
       "<text text-anchor=\"middle\" x=\"213.05\" y=\"-699.5\" font-family=\"Times New Roman,serif\" font-size=\"14.00\">Val : 0.30</text>\n",
       "<text text-anchor=\"middle\" x=\"213.05\" y=\"-684.5\" font-family=\"Times New Roman,serif\" font-size=\"14.00\">Grad : &#45;0.81</text>\n",
       "</g>\n",
       "<!-- 946233641481182970&#45;&gt;228623605465035275 -->\n",
       "<g id=\"edge10\" class=\"edge\">\n",
       "<title>946233641481182970&#45;&gt;228623605465035275</title>\n",
       "<path fill=\"none\" stroke=\"black\" d=\"M213.05,-665.61C213.05,-657.44 213.05,-648.66 213.05,-640.13\"/>\n",
       "<polygon fill=\"black\" stroke=\"black\" points=\"216.55,-639.92 213.05,-629.92 209.55,-639.92 216.55,-639.92\"/>\n",
       "</g>\n",
       "<!-- 1055183866378529287 -->\n",
       "<g id=\"node11\" class=\"node\">\n",
       "<title>1055183866378529287</title>\n",
       "<ellipse fill=\"none\" stroke=\"black\" cx=\"363.05\" cy=\"-481.29\" rx=\"62.87\" ry=\"37.45\"/>\n",
       "<text text-anchor=\"middle\" x=\"363.05\" y=\"-492.59\" font-family=\"Times New Roman,serif\" font-size=\"14.00\">Op: 10 : pow</text>\n",
       "<text text-anchor=\"middle\" x=\"363.05\" y=\"-477.59\" font-family=\"Times New Roman,serif\" font-size=\"14.00\">Val : 0.10</text>\n",
       "<text text-anchor=\"middle\" x=\"363.05\" y=\"-462.59\" font-family=\"Times New Roman,serif\" font-size=\"14.00\">Grad : 0.91</text>\n",
       "</g>\n",
       "<!-- 1055183866378529287&#45;&gt;856084901965338321 -->\n",
       "<g id=\"edge4\" class=\"edge\">\n",
       "<title>1055183866378529287&#45;&gt;856084901965338321</title>\n",
       "<path fill=\"none\" stroke=\"black\" d=\"M339.11,-446.41C331.58,-435.76 323.18,-423.88 315.33,-412.76\"/>\n",
       "<polygon fill=\"black\" stroke=\"black\" points=\"318.08,-410.59 309.45,-404.44 312.37,-414.63 318.08,-410.59\"/>\n",
       "</g>\n",
       "<!-- 407394523635416905 -->\n",
       "<g id=\"node12\" class=\"node\">\n",
       "<title>407394523635416905</title>\n",
       "<ellipse fill=\"none\" stroke=\"black\" cx=\"366.05\" cy=\"-592.24\" rx=\"59.29\" ry=\"37.45\"/>\n",
       "<text text-anchor=\"middle\" x=\"366.05\" y=\"-603.54\" font-family=\"Times New Roman,serif\" font-size=\"14.00\">Op: 11 : sub</text>\n",
       "<text text-anchor=\"middle\" x=\"366.05\" y=\"-588.54\" font-family=\"Times New Roman,serif\" font-size=\"14.00\">Val : &#45;0.32</text>\n",
       "<text text-anchor=\"middle\" x=\"366.05\" y=\"-573.54\" font-family=\"Times New Roman,serif\" font-size=\"14.00\">Grad : &#45;0.59</text>\n",
       "</g>\n",
       "<!-- 407394523635416905&#45;&gt;1055183866378529287 -->\n",
       "<g id=\"edge5\" class=\"edge\">\n",
       "<title>407394523635416905&#45;&gt;1055183866378529287</title>\n",
       "<path fill=\"none\" stroke=\"black\" d=\"M365.05,-554.66C364.82,-546.49 364.58,-537.71 364.34,-529.18\"/>\n",
       "<polygon fill=\"black\" stroke=\"black\" points=\"367.84,-528.86 364.06,-518.96 360.84,-529.05 367.84,-528.86\"/>\n",
       "</g>\n",
       "<!-- 1399951478865552355 -->\n",
       "<g id=\"node13\" class=\"node\">\n",
       "<title>1399951478865552355</title>\n",
       "<ellipse fill=\"none\" stroke=\"black\" cx=\"366.05\" cy=\"-703.2\" rx=\"70.01\" ry=\"37.45\"/>\n",
       "<text text-anchor=\"middle\" x=\"366.05\" y=\"-714.5\" font-family=\"Times New Roman,serif\" font-size=\"14.00\">Op: 12 : assign</text>\n",
       "<text text-anchor=\"middle\" x=\"366.05\" y=\"-699.5\" font-family=\"Times New Roman,serif\" font-size=\"14.00\">Val : 0.62</text>\n",
       "<text text-anchor=\"middle\" x=\"366.05\" y=\"-684.5\" font-family=\"Times New Roman,serif\" font-size=\"14.00\">Grad : 0.59</text>\n",
       "</g>\n",
       "<!-- 1399951478865552355&#45;&gt;407394523635416905 -->\n",
       "<g id=\"edge7\" class=\"edge\">\n",
       "<title>1399951478865552355&#45;&gt;407394523635416905</title>\n",
       "<path fill=\"none\" stroke=\"black\" d=\"M366.05,-665.61C366.05,-657.44 366.05,-648.66 366.05,-640.13\"/>\n",
       "<polygon fill=\"black\" stroke=\"black\" points=\"369.55,-639.92 366.05,-629.92 362.55,-639.92 369.55,-639.92\"/>\n",
       "</g>\n",
       "<!-- 41935725805215585 -->\n",
       "<g id=\"node14\" class=\"node\">\n",
       "<title>41935725805215585</title>\n",
       "<ellipse fill=\"none\" stroke=\"black\" cx=\"524.05\" cy=\"-703.2\" rx=\"70.01\" ry=\"37.45\"/>\n",
       "<text text-anchor=\"middle\" x=\"524.05\" y=\"-714.5\" font-family=\"Times New Roman,serif\" font-size=\"14.00\">Op: 13 : assign</text>\n",
       "<text text-anchor=\"middle\" x=\"524.05\" y=\"-699.5\" font-family=\"Times New Roman,serif\" font-size=\"14.00\">Val : 0.30</text>\n",
       "<text text-anchor=\"middle\" x=\"524.05\" y=\"-684.5\" font-family=\"Times New Roman,serif\" font-size=\"14.00\">Grad : &#45;0.59</text>\n",
       "</g>\n",
       "<!-- 41935725805215585&#45;&gt;407394523635416905 -->\n",
       "<g id=\"edge6\" class=\"edge\">\n",
       "<title>41935725805215585&#45;&gt;407394523635416905</title>\n",
       "<path fill=\"none\" stroke=\"black\" d=\"M481.71,-673C460.81,-658.59 435.51,-641.14 413.91,-626.25\"/>\n",
       "<polygon fill=\"black\" stroke=\"black\" points=\"415.74,-623.26 405.52,-620.46 411.77,-629.02 415.74,-623.26\"/>\n",
       "</g>\n",
       "</g>\n",
       "</svg>\n"
      ],
      "text/plain": [
       "<graphviz.graphs.Digraph at 0x18c78600040>"
      ]
     },
     "execution_count": 9,
     "metadata": {},
     "output_type": "execute_result"
    }
   ],
   "source": [
    "currloss.draw_graph()"
   ]
  },
  {
   "cell_type": "code",
   "execution_count": null,
   "metadata": {},
   "outputs": [],
   "source": []
  },
  {
   "cell_type": "code",
   "execution_count": null,
   "metadata": {},
   "outputs": [],
   "source": []
  }
 ],
 "metadata": {
  "kernelspec": {
   "display_name": "torch",
   "language": "python",
   "name": "python3"
  },
  "language_info": {
   "codemirror_mode": {
    "name": "ipython",
    "version": 3
   },
   "file_extension": ".py",
   "mimetype": "text/x-python",
   "name": "python",
   "nbconvert_exporter": "python",
   "pygments_lexer": "ipython3",
   "version": "3.8.16"
  },
  "orig_nbformat": 4
 },
 "nbformat": 4,
 "nbformat_minor": 2
}
